{
 "cells": [
  {
   "cell_type": "markdown",
   "metadata": {},
   "source": [
    "# Navigation\n",
    "\n",
    "---\n",
    "\n",
    "Congratulations for completing the first project of the [Deep Reinforcement Learning Nanodegree](https://www.udacity.com/course/deep-reinforcement-learning-nanodegree--nd893)!  In this notebook, you will learn how to control an agent in a more challenging environment, where it can learn directly from raw pixels!  **Note that this exercise is optional!**\n",
    "\n",
    "### 1. Start the Environment\n",
    "\n",
    "We begin by importing some necessary packages.  If the code cell below returns an error, please revisit the project instructions to double-check that you have installed [Unity ML-Agents](https://github.com/Unity-Technologies/ml-agents/blob/master/docs/Installation.md) and [NumPy](http://www.numpy.org/)."
   ]
  },
  {
   "cell_type": "code",
   "execution_count": null,
   "metadata": {},
   "outputs": [],
   "source": [
    "from unityagents import UnityEnvironment\n",
    "import numpy as np\n",
    "import time\n",
    "from collections import deque\n",
    "import matplotlib.pyplot as plt\n",
    "import torch"
   ]
  },
  {
   "cell_type": "markdown",
   "metadata": {},
   "source": [
    "Next, we will start the environment!  **_Before running the code cell below_**, change the `file_name` parameter to match the location of the Unity environment that you downloaded.\n",
    "\n",
    "- **Mac**: `\"path/to/VisualBanana.app\"`\n",
    "- **Windows** (x86): `\"path/to/VisualBanana_Windows_x86/Banana.exe\"`\n",
    "- **Windows** (x86_64): `\"path/to/VisualBanana_Windows_x86_64/Banana.exe\"`\n",
    "- **Linux** (x86): `\"path/to/VisualBanana_Linux/Banana.x86\"`\n",
    "- **Linux** (x86_64): `\"path/to/VisualBanana_Linux/Banana.x86_64\"`\n",
    "- **Linux** (x86, headless): `\"path/to/VisualBanana_Linux_NoVis/Banana.x86\"`\n",
    "- **Linux** (x86_64, headless): `\"path/to/VisualBanana_Linux_NoVis/Banana.x86_64\"`\n",
    "\n",
    "For instance, if you are using a Mac, then you downloaded `VisualBanana.app`.  If this file is in the same folder as the notebook, then the line below should appear as follows:\n",
    "```\n",
    "env = UnityEnvironment(file_name=\"VisualBanana.app\")\n",
    "```"
   ]
  },
  {
   "cell_type": "code",
   "execution_count": null,
   "metadata": {},
   "outputs": [],
   "source": [
    "###env = UnityEnvironment(file_name=\"./VisualBanana_Linux/Banana.x86_64\", no_graphics=False)\n",
    "###env = UnityEnvironment(file_name=\"./VisualBanana_Linux/Banana.x86_64\", no_graphics=True)\n",
    "env = UnityEnvironment(file_name=\"./VisualBanana_Linux/Banana.x86_64\") #suggested by Udacity"
   ]
  },
  {
   "cell_type": "markdown",
   "metadata": {},
   "source": [
    "Environments contain **_brains_** which are responsible for deciding the actions of their associated agents. Here we check for the first brain available, and set it as the default brain we will be controlling from Python."
   ]
  },
  {
   "cell_type": "code",
   "execution_count": null,
   "metadata": {},
   "outputs": [],
   "source": [
    "# get the default brain\n",
    "brain_name = env.brain_names[0]\n",
    "brain = env.brains[brain_name]"
   ]
  },
  {
   "cell_type": "code",
   "execution_count": null,
   "metadata": {},
   "outputs": [],
   "source": []
  },
  {
   "cell_type": "markdown",
   "metadata": {},
   "source": [
    "### 2. Examine the State and Action Spaces\n",
    "\n",
    "The simulation contains a single agent that navigates a large environment.  At each time step, it has four actions at its disposal:\n",
    "- `0` - walk forward \n",
    "- `1` - walk backward\n",
    "- `2` - turn left\n",
    "- `3` - turn right\n",
    "\n",
    "The environment state is an array of raw pixels with shape `(1, 84, 84, 3)`.  *Note that this code differs from the notebook for the project, where we are grabbing **`visual_observations`** (the raw pixels) instead of **`vector_observations`**.* A reward of `+1` is provided for collecting a yellow banana, and a reward of `-1` is provided for collecting a blue banana. \n",
    "\n",
    "Run the code cell below to print some information about the environment."
   ]
  },
  {
   "cell_type": "code",
   "execution_count": null,
   "metadata": {},
   "outputs": [],
   "source": [
    "# reset the environment\n",
    "env_info = env.reset(train_mode=True)[brain_name]\n",
    "\n",
    "# number of agents in the environment\n",
    "print('Number of agents:', len(env_info.agents))\n",
    "\n",
    "# number of actions\n",
    "action_size = brain.vector_action_space_size\n",
    "print('Number of actions:', action_size)\n",
    "\n",
    "# examine the state space\n",
    "state = env_info.visual_observations[0]\n",
    "\n",
    "print('States look like:')\n",
    "plt.imshow(np.squeeze(state, axis=0))\n",
    "plt.show()\n",
    "state_size = state.shape\n",
    "print('States have shape:', state.shape)\n",
    "#print(np.expand_dims(state, axis=4).shape) #this is unsqueeze\n",
    "state = state.reshape((-1,3,84,84))\n",
    "print('modified state is: ', state.shape)"
   ]
  },
  {
   "cell_type": "markdown",
   "metadata": {},
   "source": [
    "### 3. Take Random Actions in the Environment\n",
    "\n",
    "In the next code cell, you will learn how to use the Python API to control the agent and receive feedback from the environment.\n",
    "\n",
    "Once this cell is executed, you will watch the agent's performance, if it selects an action (uniformly) at random with each time step.  A window should pop up that allows you to observe the agent, as it moves through the environment.  \n",
    "\n",
    "Of course, you'll have to change the code so that the agent is able to use its experience to gradually choose better actions when interacting with the environment!"
   ]
  },
  {
   "cell_type": "code",
   "execution_count": null,
   "metadata": {},
   "outputs": [],
   "source": [
    "env_info = env.reset(train_mode=False)[brain_name] # reset the environment\n",
    "state = env_info.visual_observations[0]            # get the current state\n",
    "score = 0                                          # initialize the score\n",
    "while True:\n",
    "    action = np.random.randint(action_size)        # select an action\n",
    "    env_info = env.step(action)[brain_name]        # send the action to the environment\n",
    "    next_state = env_info.visual_observations[0]   # get the next state\n",
    "    reward = env_info.rewards[0]                   # get the reward\n",
    "    done = env_info.local_done[0]                  # see if episode has finished\n",
    "    score += reward                                # update the score\n",
    "    state = next_state                             # roll over the state to next time step\n",
    "    #print(done)\n",
    "    if done:                                       # exit loop if episode finished\n",
    "        break\n",
    "    \n",
    "print(\"Score: {}\".format(score))"
   ]
  },
  {
   "cell_type": "markdown",
   "metadata": {},
   "source": [
    "When finished, you can close the environment."
   ]
  },
  {
   "cell_type": "markdown",
   "metadata": {},
   "source": [
    "### 4. It's Your Turn!\n",
    "\n",
    "Now it's your turn to train your own agent to solve the environment!  When training the environment, set `train_mode=True`, so that the line for resetting the environment looks like the following:\n",
    "```python\n",
    "env_info = env.reset(train_mode=True)[brain_name]\n",
    "```"
   ]
  },
  {
   "cell_type": "code",
   "execution_count": null,
   "metadata": {
    "scrolled": false
   },
   "outputs": [],
   "source": [
    "#Training the agent\n",
    "from unityagents import UnityEnvironment\n",
    "import numpy as np\n",
    "import time\n",
    "from collections import deque\n",
    "import matplotlib.pyplot as plt\n",
    "import torch\n",
    "import pickle\n",
    "from pixel_dqn_agent import Agent\n",
    "\n",
    "local_network_fn = './saved_agent/dqn_checkpoint_local.pth'\n",
    "target_network_fn = './saved_agent/dqn_checkpoint_target.pth'\n",
    "memory_buffer_fn = './saved_agent/memory_buffer'\n",
    "scores_fn = './saved_agent/scores.txt'\n",
    "#agent_fn = 'ddqn_checkpoint_agent.pth'\n",
    "def load_agent(agent):    \n",
    "    agent.qnetwork_local.load_state_dict(torch.load(local_network_fn, map_location=lambda storage, loc: storage))\n",
    "    agent.qnetwork_target.load_state_dict(torch.load(target_network_fn, map_location=lambda storage, loc: storage))\n",
    "    with open(scores_fn, \"rb\") as sf:\n",
    "        agent.scores = pickle.load(sf)\n",
    "    with open(memory_buffer_fn, \"rb\") as mf:\n",
    "        agent.memory.memory = pickle.load(mf)\n",
    "    #agent = Agent.load(agent_fn)\n",
    "    return agent\n",
    "\n",
    "def save_agent(agent):    \n",
    "    torch.save(agent.qnetwork_local.state_dict(), local_network_fn)\n",
    "    torch.save(agent.qnetwork_target.state_dict(), target_network_fn)\n",
    "    with open(scores_fn, \"wb\") as sf:\n",
    "        pickle.dump(agent.scores, sf, pickle.HIGHEST_PROTOCOL)\n",
    "    with open(memory_buffer_fn, \"wb\") as mf:\n",
    "        mem_to_save = deque(list(agent.memory.memory)[-50000:], maxlen=100000) #agent.memory.memory\n",
    "        pickle.dump(mem_to_save, mf, pickle.HIGHEST_PROTOCOL)\n",
    "    #agent.save(agent_fn)\n",
    "    return None\n",
    "\n",
    "def train_agent():\n",
    "    env = UnityEnvironment(file_name=\"./VisualBanana_Linux/Banana.x86_64\", seed=111)\n",
    "    brain_name = env.brain_names[0]\n",
    "    brain = env.brains[brain_name]\n",
    "\n",
    "    final_eps = 0.01\n",
    "    eps_start= 1.0 #0.01 #1.0\n",
    "    agent = Agent(num_input_chnl=11, action_size=4, seed=0) #create a new agent\n",
    "    #agent = load_agent(agent)\n",
    "  \n",
    "    def dqn(n_episodes=3000, max_t=1000, eps_start=eps_start, eps_end=final_eps, eps_decay=0.995):\n",
    "        \"\"\"Deep Q-Learning.\n",
    "\n",
    "        Params\n",
    "        ======\n",
    "            n_episodes (int): maximum number of training episodes\n",
    "            max_t (int): maximum number of timesteps per episode\n",
    "            eps_start (float): starting value of epsilon, for epsilon-greedy action selection\n",
    "            eps_end (float): minimum value of epsilon\n",
    "            eps_decay (float): multiplicative factor (per episode) for decreasing epsilon\n",
    "        \"\"\"\n",
    "        scores_window = deque(maxlen=100)  # last 100 scores\n",
    "        eps = eps_start                    # initialize epsilon\n",
    "        for i_episode in range(1, n_episodes+1):\n",
    "            env_info = env.reset(train_mode=True)[brain_name] # reset the environment\n",
    "            state = env_info.visual_observations[0]            # get the current state\n",
    "            #print(type(state))\n",
    "            state = state.reshape((-1,3,84,84))\n",
    "            #state = np.expand_dims(state, axis=0)\n",
    "            #print(state.shape)\n",
    "            #state = torch.from_numpy(state)\n",
    "            score = 0                                          # initialize the score\n",
    "            for t in range(max_t): #this could also be while True instead\n",
    "                aug_state = agent.augment_state(state)         # augment the state\n",
    "                action = agent.act(aug_state, eps)             # select an action using e-greedy policy\n",
    "                env_info = env.step(action)[brain_name]        # send the action to the environment\n",
    "                next_state = env_info.visual_observations[0]   # get the next state\n",
    "                next_state = next_state.reshape((-1,3,84,84))\n",
    "                reward = env_info.rewards[0]                   # get the reward\n",
    "                done = env_info.local_done[0]                  # see if episode has finished\n",
    "                agent.step(state, action, reward, next_state, done, is_training=True) #add to experience buffer and do the learning\n",
    "\n",
    "                score += reward                                # update the score\n",
    "                state = next_state                             # roll over the state to next time step\n",
    "                if done:                                       # exit loop if episode finished\n",
    "                    break                \n",
    "\n",
    "            scores_window.append(score)       # save most recent score\n",
    "            agent.scores.append(score)              # save most recent score\n",
    "            eps = max(eps_end, eps_decay*eps) # decrease epsilon\n",
    "            print('\\rEpisode {}\\tAverage Score: {:.2f}'.format(i_episode, np.mean(scores_window)), end=\"\")\n",
    "            if i_episode % 100 == 0:\n",
    "                print('\\rEpisode {}\\tAverage Score: {:.2f}'.format(i_episode, np.mean(scores_window)))\n",
    "                print(len(agent.memory.memory), agent.memory.memory.maxlen)\n",
    "            if i_episode % 500 == 0: #save weights every 500 episodes\n",
    "                save_agent(agent)\n",
    "            if np.mean(scores_window)>=17.0:\n",
    "                print('\\nEnvironment solved in {:d} episodes!\\tAverage Score: {:.2f}'.format(i_episode-100, np.mean(scores_window)))\n",
    "                save_agent(agent)\n",
    "                break\n",
    "        save_agent(agent) #save at the end\n",
    "\n",
    "        return agent.scores\n",
    "\n",
    "\n",
    "    strt = time.time()\n",
    "    scores = dqn()\n",
    "    print('\\nTraining Time is {}'.format(time.time()-strt))\n",
    "    env.close()\n",
    "\n",
    "#     # plot the scores\n",
    "#     fig = plt.figure()\n",
    "#     ax = fig.add_subplot(111)\n",
    "#     plt.plot(np.arange(len(scores)), scores)\n",
    "#     plt.ylabel('Score')\n",
    "#     plt.xlabel('Episode #')\n",
    "#     plt.show()\n",
    "\n",
    "\n",
    "#Train the agent\n",
    "print('Starting Agent Training:')\n",
    "train_agent()"
   ]
  },
  {
   "cell_type": "code",
   "execution_count": null,
   "metadata": {},
   "outputs": [],
   "source": []
  },
  {
   "cell_type": "code",
   "execution_count": 1,
   "metadata": {
    "scrolled": true
   },
   "outputs": [
    {
     "name": "stdout",
     "output_type": "stream",
     "text": [
      "Starting Agent Testing:\n"
     ]
    },
    {
     "name": "stderr",
     "output_type": "stream",
     "text": [
      "INFO:unityagents:\n",
      "'Academy' started successfully!\n",
      "Unity Academy name: Academy\n",
      "        Number of Brains: 1\n",
      "        Number of External Brains : 1\n",
      "        Lesson number : 0\n",
      "        Reset Parameters :\n",
      "\t\t\n",
      "Unity brain name: BananaBrain\n",
      "        Number of Visual Observations (per agent): 1\n",
      "        Vector Observation space type: continuous\n",
      "        Vector Observation space size (per agent): 0\n",
      "        Number of stacked Vector Observation: 1\n",
      "        Vector Action space type: discrete\n",
      "        Vector Action space size (per agent): 4\n",
      "        Vector Action descriptions: , , , \n"
     ]
    },
    {
     "name": "stdout",
     "output_type": "stream",
     "text": [
      "Episode 1: 11.0\n",
      "Mean Score out of 1 episodes is 11.0\n"
     ]
    }
   ],
   "source": [
    "#Testing the agent\n",
    "from unityagents import UnityEnvironment\n",
    "import numpy as np\n",
    "import time\n",
    "from collections import deque\n",
    "import matplotlib.pyplot as plt\n",
    "import torch\n",
    "import pickle\n",
    "from pixel_dqn_agent import Agent\n",
    "\n",
    "local_network_fn = './saved_agent/dqn_checkpoint_local.pth'\n",
    "def test_agent(num_episodes=10):\n",
    "    #env = UnityEnvironment(file_name=\"./VisualBanana_Linux/Banana.x86_64\", seed=111)\n",
    "    env = UnityEnvironment(file_name=\"./VisualBanana_Linux/Banana.x86_64\")\n",
    "    brain_name = env.brain_names[0]\n",
    "    brain = env.brains[brain_name]\n",
    "\n",
    "    scores = []\n",
    "    final_eps=0.01    \n",
    "    agent = Agent(num_input_chnl=11, action_size=4, seed=0) #create a new agent\n",
    "    agent.qnetwork_local.load_state_dict(torch.load(local_network_fn, map_location=lambda storage, loc: storage)) #load the weights\n",
    "    \n",
    "    for i_episode in range(1,num_episodes+1):\n",
    "        env_info = env.reset(train_mode=False)[brain_name] # reset the environment\n",
    "        state = env_info.visual_observations[0]            # get the current state\n",
    "        state = state.reshape((-1,3,84,84))\n",
    "        score = 0                                          # initialize the score\n",
    "        while True:\n",
    "            aug_state = agent.augment_state(state)         # augment the state\n",
    "            action = agent.act(aug_state, final_eps)             # select an action using e-greedy policy\n",
    "            env_info = env.step(action)[brain_name]        # send the action to the environment\n",
    "            next_state = env_info.visual_observations[0]   # get the next state\n",
    "            next_state = next_state.reshape((-1,3,84,84))\n",
    "            reward = env_info.rewards[0]                   # get the reward\n",
    "            done = env_info.local_done[0]                  # see if episode has finished\n",
    "            agent.step(state, action, reward, next_state, done, is_training=False) #only add to experience buffer and don't do learning\n",
    "\n",
    "            score += reward                                # update the score\n",
    "            state = next_state                             # roll over the state to next time step\n",
    "            if done:                                       # exit loop if episode finished\n",
    "                scores.append(score)\n",
    "                print('Episode {}: {}'.format(i_episode, score))\n",
    "                break\n",
    "    env.close()\n",
    "    return np.mean(scores)\n",
    "\n",
    "print('Starting Agent Testing:')\n",
    "num_episodes=1 #100\n",
    "mean_score = test_agent(num_episodes)\n",
    "print(\"Mean Score out of {} episodes is {}\".format(num_episodes, mean_score))"
   ]
  },
  {
   "cell_type": "code",
   "execution_count": 3,
   "metadata": {},
   "outputs": [
    {
     "data": {
      "image/png": "[encoded data removed]",
      "text/plain": [
       "<Figure size 432x288 with 1 Axes>"
      ]
     },
     "metadata": {},
     "output_type": "display_data"
    }
   ],
   "source": [
    "#Plot the learning behavior\n",
    "import pickle\n",
    "import matplotlib.pyplot as plt\n",
    "\n",
    "with open('./saved_agent/scores.txt', 'rb') as f:\n",
    "    scores = pickle.load(f)\n",
    "\n",
    "plt.plot(scores)\n",
    "plt.ylabel('Score')\n",
    "plt.xlabel('Episode #')\n",
    "plt.show()"
   ]
  },
  {
   "cell_type": "code",
   "execution_count": null,
   "metadata": {},
   "outputs": [],
   "source": []
  }
 ],
 "metadata": {
  "kernelspec": {
   "display_name": "Python 3",
   "language": "python",
   "name": "python3"
  },
  "language_info": {
   "codemirror_mode": {
    "name": "ipython",
    "version": 3
   },
   "file_extension": ".py",
   "mimetype": "text/x-python",
   "name": "python",
   "nbconvert_exporter": "python",
   "pygments_lexer": "ipython3",
   "version": "3.6.2"
  }
 },
 "nbformat": 4,
 "nbformat_minor": 2
}
